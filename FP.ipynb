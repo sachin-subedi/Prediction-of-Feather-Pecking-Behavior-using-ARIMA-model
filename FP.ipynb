{
 "cells": [
  {
   "cell_type": "code",
   "execution_count": null,
   "metadata": {},
   "outputs": [],
   "source": [
    "import pandas as pd\n",
    "import numpy as np\n",
    "import matplotlib.pyplot as plt\n",
    "from datetime import datetime, timedelta \n",
    "from matplotlib import dates as mpl_dates\n",
    "import datetime as dt\n",
    "import seaborn as sns"
   ]
  },
  {
   "cell_type": "code",
   "execution_count": null,
   "metadata": {},
   "outputs": [],
   "source": [
    "df = pd.read_excel('FP.xlsx')\n",
    "df"
   ]
  },
  {
   "cell_type": "code",
   "execution_count": null,
   "metadata": {},
   "outputs": [],
   "source": [
    "train =  df.groupby('Date')['No of birds with feather pecking activity'].sum().reset_index()\n",
    "test =  df.groupby('Date')['No of birds with feather pecking activity'].sum().reset_index()\n",
    "train['Feather pecking activity'] = train['No of birds with feather pecking activity'].cumsum()\n",
    "test['Feather pecking activity'] = test['No of birds with feather pecking activity'].cumsum()"
   ]
  },
  {
   "cell_type": "code",
   "execution_count": null,
   "metadata": {},
   "outputs": [],
   "source": [
    "from statsmodels.tsa.arima_model import ARIMA\n",
    "import datetime"
   ]
  },
  {
   "cell_type": "code",
   "execution_count": null,
   "metadata": {},
   "outputs": [],
   "source": [
    "train.rename(columns={\"Date\":\"ds\",\"Feather pecking activity\":\"y\"},inplace=True)\n",
    "test.rename(columns={\"Date\":\"ds\",\"Feather pecking activity\":\"y\"},inplace=True)\n",
    "test = test.set_index(\"ds\")\n",
    "test = test['y']"
   ]
  },
  {
   "cell_type": "code",
   "execution_count": null,
   "metadata": {},
   "outputs": [],
   "source": [
    "arima = ARIMA(train['y'], order=(3, 1, 0))\n",
    "arima = arima.fit(trend='nc', full_output=True, disp=True)\n",
    "forecast = arima.forecast(steps= 30)\n",
    "pred = list(forecast[0])\n",
    "start_date = train['ds'].max()\n",
    "prediction_dates = []\n",
    "\n",
    "for i in range(30):\n",
    "    date = start_date + datetime.timedelta(days=1)\n",
    "    prediction_dates.append(date)\n",
    "    start_date = date\n",
    "plt.figure(figsize= (20,10))\n",
    "plt.xlabel(\"Dates\",fontsize = 10)\n",
    "plt.ylabel('No of birds with feather pecking activity',fontsize = 25)\n",
    "plt.title(\"Predicted Values for the next 25 Days\" , fontsize = 25)\n",
    "\n",
    "plt.plot_date(y= pred,x= prediction_dates,linestyle ='dashed',color = 'crimson',label = 'Predicted')\n",
    "plt.plot_date(y=train['y'].tail(15),x=train['ds'].tail(15),linestyle = '-',color = 'blue',label = 'Actual')\n",
    "plt.style.use('bmh')"
   ]
  }
 ],
 "metadata": {
  "language_info": {
   "name": "python"
  },
  "orig_nbformat": 4
 },
 "nbformat": 4,
 "nbformat_minor": 2
}
